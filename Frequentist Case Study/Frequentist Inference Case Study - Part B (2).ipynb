{
 "cells": [
  {
   "cell_type": "markdown",
   "metadata": {},
   "source": [
    "# Frequentist Inference Case Study - Part B"
   ]
  },
  {
   "cell_type": "markdown",
   "metadata": {},
   "source": [
    "## Learning objectives"
   ]
  },
  {
   "cell_type": "markdown",
   "metadata": {},
   "source": [
    "Welcome to Part B of the Frequentist inference case study! The purpose of this case study is to help you apply the concepts associated with Frequentist inference in Python. In particular, you'll practice writing Python code to apply the following statistical concepts: \n",
    "* the _z_-statistic\n",
    "* the _t_-statistic\n",
    "* the difference and relationship between the two\n",
    "* the Central Limit Theorem, including its assumptions and consequences\n",
    "* how to estimate the population mean and standard deviation from a sample\n",
    "* the concept of a sampling distribution of a test statistic, particularly for the mean\n",
    "* how to combine these concepts to calculate a confidence interval"
   ]
  },
  {
   "cell_type": "markdown",
   "metadata": {},
   "source": [
    "In the previous notebook, we used only data from a known normal distribution. **You'll now tackle real data, rather than simulated data, and answer some relevant real-world business problems using the data.**"
   ]
  },
  {
   "cell_type": "markdown",
   "metadata": {},
   "source": [
    "## Hospital medical charges"
   ]
  },
  {
   "cell_type": "markdown",
   "metadata": {},
   "source": [
    "Imagine that a hospital has hired you as their data scientist. An administrator is working on the hospital's business operations plan and needs you to help them answer some business questions. \n",
    "\n",
    "In this assignment notebook, you're going to use frequentist statistical inference on a data sample to answer the questions:\n",
    "* has the hospital's revenue stream fallen below a key threshold?\n",
    "* are patients with insurance really charged different amounts than those without?\n",
    "\n",
    "Answering that last question with a frequentist approach makes some assumptions, and requires some knowledge, about the two groups."
   ]
  },
  {
   "cell_type": "markdown",
   "metadata": {},
   "source": [
    "We are going to use some data on medical charges obtained from [Kaggle](https://www.kaggle.com/easonlai/sample-insurance-claim-prediction-dataset). \n",
    "\n",
    "For the purposes of this exercise, assume the observations are the result of random sampling from our single hospital. Recall that in the previous assignment, we introduced the Central Limit Theorem (CLT), and its consequence that the distributions of sample statistics approach a normal distribution as $n$ increases. The amazing thing about this is that it applies to the sampling distributions of statistics that have been calculated from even highly non-normal distributions of data! Recall, also, that hypothesis testing is very much based on making inferences about such sample statistics. You're going to rely heavily on the CLT to apply frequentist (parametric) tests to answer the questions in this notebook."
   ]
  },
  {
   "cell_type": "code",
   "execution_count": 37,
   "metadata": {},
   "outputs": [],
   "source": [
    "import pandas as pd\n",
    "import numpy as np\n",
    "import matplotlib.pyplot as plt\n",
    "from scipy.stats import t\n",
    "from numpy.random import seed\n",
    "from scipy.stats import ttest_1samp\n",
    "from math import sqrt # needed for sqrt\n",
    "\n",
    "medical = pd.read_csv('data/insurance2.csv')"
   ]
  },
  {
   "cell_type": "code",
   "execution_count": 4,
   "metadata": {},
   "outputs": [
    {
     "data": {
      "text/plain": [
       "(1338, 8)"
      ]
     },
     "execution_count": 4,
     "metadata": {},
     "output_type": "execute_result"
    }
   ],
   "source": [
    "medical.shape"
   ]
  },
  {
   "cell_type": "code",
   "execution_count": 5,
   "metadata": {},
   "outputs": [
    {
     "data": {
      "text/html": [
       "<div>\n",
       "<style scoped>\n",
       "    .dataframe tbody tr th:only-of-type {\n",
       "        vertical-align: middle;\n",
       "    }\n",
       "\n",
       "    .dataframe tbody tr th {\n",
       "        vertical-align: top;\n",
       "    }\n",
       "\n",
       "    .dataframe thead th {\n",
       "        text-align: right;\n",
       "    }\n",
       "</style>\n",
       "<table border=\"1\" class=\"dataframe\">\n",
       "  <thead>\n",
       "    <tr style=\"text-align: right;\">\n",
       "      <th></th>\n",
       "      <th>age</th>\n",
       "      <th>sex</th>\n",
       "      <th>bmi</th>\n",
       "      <th>children</th>\n",
       "      <th>smoker</th>\n",
       "      <th>region</th>\n",
       "      <th>charges</th>\n",
       "      <th>insuranceclaim</th>\n",
       "    </tr>\n",
       "  </thead>\n",
       "  <tbody>\n",
       "    <tr>\n",
       "      <th>0</th>\n",
       "      <td>19</td>\n",
       "      <td>0</td>\n",
       "      <td>27.900</td>\n",
       "      <td>0</td>\n",
       "      <td>1</td>\n",
       "      <td>3</td>\n",
       "      <td>16884.92400</td>\n",
       "      <td>1</td>\n",
       "    </tr>\n",
       "    <tr>\n",
       "      <th>1</th>\n",
       "      <td>18</td>\n",
       "      <td>1</td>\n",
       "      <td>33.770</td>\n",
       "      <td>1</td>\n",
       "      <td>0</td>\n",
       "      <td>2</td>\n",
       "      <td>1725.55230</td>\n",
       "      <td>1</td>\n",
       "    </tr>\n",
       "    <tr>\n",
       "      <th>2</th>\n",
       "      <td>28</td>\n",
       "      <td>1</td>\n",
       "      <td>33.000</td>\n",
       "      <td>3</td>\n",
       "      <td>0</td>\n",
       "      <td>2</td>\n",
       "      <td>4449.46200</td>\n",
       "      <td>0</td>\n",
       "    </tr>\n",
       "    <tr>\n",
       "      <th>3</th>\n",
       "      <td>33</td>\n",
       "      <td>1</td>\n",
       "      <td>22.705</td>\n",
       "      <td>0</td>\n",
       "      <td>0</td>\n",
       "      <td>1</td>\n",
       "      <td>21984.47061</td>\n",
       "      <td>0</td>\n",
       "    </tr>\n",
       "    <tr>\n",
       "      <th>4</th>\n",
       "      <td>32</td>\n",
       "      <td>1</td>\n",
       "      <td>28.880</td>\n",
       "      <td>0</td>\n",
       "      <td>0</td>\n",
       "      <td>1</td>\n",
       "      <td>3866.85520</td>\n",
       "      <td>1</td>\n",
       "    </tr>\n",
       "  </tbody>\n",
       "</table>\n",
       "</div>"
      ],
      "text/plain": [
       "   age  sex     bmi  children  smoker  region      charges  insuranceclaim\n",
       "0   19    0  27.900         0       1       3  16884.92400               1\n",
       "1   18    1  33.770         1       0       2   1725.55230               1\n",
       "2   28    1  33.000         3       0       2   4449.46200               0\n",
       "3   33    1  22.705         0       0       1  21984.47061               0\n",
       "4   32    1  28.880         0       0       1   3866.85520               1"
      ]
     },
     "execution_count": 5,
     "metadata": {},
     "output_type": "execute_result"
    }
   ],
   "source": [
    "medical.head()"
   ]
  },
  {
   "cell_type": "markdown",
   "metadata": {},
   "source": [
    "__Q1:__ Plot the histogram of charges and calculate the mean and standard deviation. Comment on the appropriateness of these statistics for the data."
   ]
  },
  {
   "cell_type": "code",
   "execution_count": 13,
   "metadata": {},
   "outputs": [
    {
     "data": {
      "image/png": "[encoded data removed]",
      "text/plain": [
       "<Figure size 640x480 with 1 Axes>"
      ]
     },
     "metadata": {},
     "output_type": "display_data"
    }
   ],
   "source": [
    "_ = plt.hist(medical['charges'])\n",
    "_ = plt.xlabel('Charges')\n",
    "_ = plt.ylabel('Count')\n",
    "plt.show()"
   ]
  },
  {
   "cell_type": "code",
   "execution_count": 15,
   "metadata": {},
   "outputs": [
    {
     "data": {
      "text/plain": [
       "np.float64(13270.422265141257)"
      ]
     },
     "execution_count": 15,
     "metadata": {},
     "output_type": "execute_result"
    }
   ],
   "source": [
    "mean_charges = np.mean(medical['charges'])\n",
    "mean_charges"
   ]
  },
  {
   "cell_type": "code",
   "execution_count": 33,
   "metadata": {},
   "outputs": [
    {
     "data": {
      "text/plain": [
       "np.float64(12110.011236694001)"
      ]
     },
     "execution_count": 33,
     "metadata": {},
     "output_type": "execute_result"
    }
   ],
   "source": [
    "std_charges = np.std(medical['charges'], ddof=1)\n",
    "std_charges"
   ]
  },
  {
   "cell_type": "markdown",
   "metadata": {},
   "source": [
    "__A:__ The distribution is not a normal distribution. The mean and standard deviation will lean toward the tail of the distribution, giving a misleading signal. We might be better served with median and interquartile range"
   ]
  },
  {
   "cell_type": "markdown",
   "metadata": {},
   "source": [
    "__Q2:__ The administrator is concerned that the actual average charge has fallen below 12,000, threatening the hospital's operational model. On the assumption that these data represent a random sample of charges, how would you justify that these data allow you to answer that question? And what would be the most appropriate frequentist test, of the ones discussed so far, to apply?"
   ]
  },
  {
   "cell_type": "markdown",
   "metadata": {},
   "source": [
    "__A:__ The sample mean is 13270. It is important to acknowledge that there is a discrepancy between the sample mean and the administrative team's believed population mean.  Differences could be caused by sampling variability. To address this, we need to do a full statistical analysis. The null hypothesis is that the true mean is less than 12000.  We will use a one sample t-test to determine of the mean of our single sample is different from 12,000."
   ]
  },
  {
   "cell_type": "markdown",
   "metadata": {},
   "source": [
    "__Q3:__ Given the nature of the administrator's concern, what is the appropriate confidence interval in this case? A ***one-sided*** or ***two-sided*** interval? (Refresh your understanding of this concept on p. 399 of the *AoS*). Calculate the critical value and the relevant 95% confidence interval for the mean, and comment on whether the administrator should be concerned."
   ]
  },
  {
   "cell_type": "markdown",
   "metadata": {},
   "source": [
    "__A:__ A one-sided interval is adequate. The concern is on the lower boundary. If the average goes above 12,000, there is no issue.  "
   ]
  },
  {
   "cell_type": "code",
   "execution_count": 22,
   "metadata": {},
   "outputs": [
    {
     "name": "stdout",
     "output_type": "stream",
     "text": [
      "One-sided (upper) 95% Confidence Bound: 13815.15\n"
     ]
    }
   ],
   "source": [
    "n = len(medical['charges'])\n",
    "\n",
    "# Degrees of freedom (n-1)\n",
    "degrees_of_freedom = n - 1\n",
    "\n",
    "# Confidence level (95%)\n",
    "confidence_level = 0.95\n",
    "\n",
    "# Calculate the critical t-value (one-sided)\n",
    "alpha = 1 - confidence_level\n",
    "t_critical_one_sided = t.ppf(1 - alpha, degrees_of_freedom)  # Note: 1 - alpha, not 1 - alpha/2\n",
    "\n",
    "# Calculate the upper bound\n",
    "upper_bound = mean_charges + t_critical_one_sided * (std_charges / np.sqrt(n))\n",
    "\n",
    "print(f\"One-sided (upper) 95% Confidence Bound: {upper_bound:.2f}\")"
   ]
  },
  {
   "cell_type": "markdown",
   "metadata": {},
   "source": [
    "__A__ We are 95% confident the mean has an upper bound of ~ 13815. The administrator could challenge us further or be concerned with their data. "
   ]
  },
  {
   "cell_type": "markdown",
   "metadata": {},
   "source": [
    "The administrator then wants to know whether people with insurance really are charged a different amount to those without.\n",
    "\n",
    "__Q4:__ State the null and alternative hypothesis here. Use the _t_-test for the difference between means, where the pooled standard deviation of the two groups is given by:\n",
    "\\begin{equation}\n",
    "s_p = \\sqrt{\\frac{(n_0 - 1)s^2_0 + (n_1 - 1)s^2_1}{n_0 + n_1 - 2}}\n",
    "\\end{equation}\n",
    "\n",
    "and the *t*-test statistic is then given by:\n",
    "\n",
    "\\begin{equation}\n",
    "t = \\frac{\\bar{x}_0 - \\bar{x}_1}{s_p \\sqrt{1/n_0 + 1/n_1}}.\n",
    "\\end{equation}\n",
    "\n",
    "(If you need some reminding of the general definition of ***t-statistic***, check out the definition on p. 404 of *AoS*). \n",
    "\n",
    "What assumption about the variances of the two groups are we making here?"
   ]
  },
  {
   "cell_type": "markdown",
   "metadata": {},
   "source": [
    "__A:__ The null hypothesis is that the true mean is less than or equal to 12000. The alternative hypothesis is that the true mean is above 12000. "
   ]
  },
  {
   "cell_type": "markdown",
   "metadata": {},
   "source": [
    "__Q5:__ Perform this hypothesis test both manually, using the above formulae, and then using the appropriate function from [scipy.stats](https://docs.scipy.org/doc/scipy/reference/stats.html#statistical-tests) (hint, you're looking for a function to perform a _t_-test on two independent samples). For the manual approach, calculate the value of the test statistic and then its probability (the p-value). Verify you get the same results from both."
   ]
  },
  {
   "cell_type": "markdown",
   "metadata": {},
   "source": [
    "__A:__ Manually"
   ]
  },
  {
   "cell_type": "code",
   "execution_count": 39,
   "metadata": {},
   "outputs": [
    {
     "name": "stdout",
     "output_type": "stream",
     "text": [
      "Sample Mean: 13270.42\n",
      "Sample Standard Deviation: 12110.01\n",
      "Calculated t-statistic: 3.84\n"
     ]
    }
   ],
   "source": [
    "target_mean = 12000\n",
    "alpha = 0.05  # Significance level\n",
    "\n",
    "population_mean = 12000\n",
    "\n",
    "# Calculate the t-statistic manually\n",
    "t_manual = (mean_charges - population_mean) / (std_charges / sqrt(n))\n",
    "\n",
    "print(f\"Sample Mean: {mean_charges:.2f}\")\n",
    "print(f\"Sample Standard Deviation: {std_charges:.2f}\")\n",
    "print(f\"Calculated t-statistic: {t_manual:.2f}\")\n"
   ]
  },
  {
   "cell_type": "markdown",
   "metadata": {},
   "source": [
    "__A__ Through Function"
   ]
  },
  {
   "cell_type": "code",
   "execution_count": 40,
   "metadata": {},
   "outputs": [
    {
     "name": "stdout",
     "output_type": "stream",
     "text": [
      "Sample Mean Charges: 13270.42\n",
      "Sample Standard Deviation: 12110.01\n",
      "Degrees of Freedom: 1337\n",
      "T-statistic: 3.84\n",
      "P-value: 0.000\n",
      "Reject the null hypothesis: The average charge is significantly greater than $12,000.\n",
      "One-sided (upper) 95% Confidence Bound: 13815.36\n"
     ]
    }
   ],
   "source": [
    "charges = medical['charges']\n",
    "\n",
    "t_statistic, p_value = ttest_1samp(charges, target_mean, alternative='greater') # One-sided test\n",
    "\n",
    "print(f\"Sample Mean Charges: {mean_charges:.2f}\")\n",
    "print(f\"Sample Standard Deviation: {std_charges:.2f}\")\n",
    "print(f\"Degrees of Freedom: {degrees_of_freedom}\")\n",
    "print(f\"T-statistic: {t_statistic:.2f}\")\n",
    "print(f\"P-value: {p_value:.3f}\")\n",
    "\n",
    "if p_value < alpha:\n",
    "    print(\"Reject the null hypothesis: The average charge is significantly greater than $12,000.\")\n",
    "else:\n",
    "    print(\"Fail to reject the null hypothesis: There is not enough evidence to conclude that the average charge is greater than $12,000.\")\n",
    "\n",
    "#Calculate one-sided upper confidence bound\n",
    "t_critical_one_sided = t.ppf(1 - alpha, degrees_of_freedom)\n",
    "upper_bound = mean_charges + t_critical_one_sided * (std_charges / np.sqrt(n))\n",
    "print(f\"One-sided (upper) 95% Confidence Bound: {upper_bound:.2f}\")"
   ]
  },
  {
   "cell_type": "markdown",
   "metadata": {},
   "source": [
    "__A__ Same result from both"
   ]
  },
  {
   "cell_type": "markdown",
   "metadata": {},
   "source": [
    "Congratulations! Hopefully you got the exact same numerical results. This shows that you correctly calculated the numbers by hand. Secondly, you used the correct function and saw that it's much easier to use. All you need to do is pass your data to it."
   ]
  },
  {
   "cell_type": "markdown",
   "metadata": {},
   "source": [
    "__Q6:__ Conceptual question: look through the documentation for statistical test functions in scipy.stats. You'll see the above _t_-test for a sample, but can you see an equivalent one for performing a *z*-test from a sample? Comment on your answer."
   ]
  },
  {
   "cell_type": "code",
   "execution_count": 48,
   "metadata": {},
   "outputs": [
    {
     "data": {
      "text/plain": [
       "\u001b[1;31mSignature:\u001b[0m\n",
       "\u001b[0mttest_1samp\u001b[0m\u001b[1;33m(\u001b[0m\u001b[1;33m\n",
       "\u001b[0m    \u001b[0ma\u001b[0m\u001b[1;33m,\u001b[0m\u001b[1;33m\n",
       "\u001b[0m    \u001b[0mpopmean\u001b[0m\u001b[1;33m,\u001b[0m\u001b[1;33m\n",
       "\u001b[0m    \u001b[0maxis\u001b[0m\u001b[1;33m=\u001b[0m\u001b[1;36m0\u001b[0m\u001b[1;33m,\u001b[0m\u001b[1;33m\n",
       "\u001b[0m    \u001b[0mnan_policy\u001b[0m\u001b[1;33m=\u001b[0m\u001b[1;34m'propagate'\u001b[0m\u001b[1;33m,\u001b[0m\u001b[1;33m\n",
       "\u001b[0m    \u001b[0malternative\u001b[0m\u001b[1;33m=\u001b[0m\u001b[1;34m'two-sided'\u001b[0m\u001b[1;33m,\u001b[0m\u001b[1;33m\n",
       "\u001b[0m    \u001b[1;33m*\u001b[0m\u001b[1;33m,\u001b[0m\u001b[1;33m\n",
       "\u001b[0m    \u001b[0mkeepdims\u001b[0m\u001b[1;33m=\u001b[0m\u001b[1;32mFalse\u001b[0m\u001b[1;33m,\u001b[0m\u001b[1;33m\n",
       "\u001b[0m\u001b[1;33m)\u001b[0m\u001b[1;33m\u001b[0m\u001b[1;33m\u001b[0m\u001b[0m\n",
       "\u001b[1;31mDocstring:\u001b[0m\n",
       "Calculate the T-test for the mean of ONE group of scores.\n",
       "\n",
       "This is a test for the null hypothesis that the expected value\n",
       "(mean) of a sample of independent observations `a` is equal to the given\n",
       "population mean, `popmean`.\n",
       "\n",
       "Parameters\n",
       "----------\n",
       "a : array_like\n",
       "    Sample observations.\n",
       "popmean : float or array_like\n",
       "    Expected value in null hypothesis. If array_like, then its length along\n",
       "    `axis` must equal 1, and it must otherwise be broadcastable with `a`.\n",
       "axis : int or None, default: 0\n",
       "    If an int, the axis of the input along which to compute the statistic.\n",
       "    The statistic of each axis-slice (e.g. row) of the input will appear in a\n",
       "    corresponding element of the output.\n",
       "    If ``None``, the input will be raveled before computing the statistic.\n",
       "nan_policy : {'propagate', 'omit', 'raise'}\n",
       "    Defines how to handle input NaNs.\n",
       "    \n",
       "    - ``propagate``: if a NaN is present in the axis slice (e.g. row) along\n",
       "      which the  statistic is computed, the corresponding entry of the output\n",
       "      will be NaN.\n",
       "    - ``omit``: NaNs will be omitted when performing the calculation.\n",
       "      If insufficient data remains in the axis slice along which the\n",
       "      statistic is computed, the corresponding entry of the output will be\n",
       "      NaN.\n",
       "    - ``raise``: if a NaN is present, a ``ValueError`` will be raised.\n",
       "alternative : {'two-sided', 'less', 'greater'}, optional\n",
       "    Defines the alternative hypothesis.\n",
       "    The following options are available (default is 'two-sided'):\n",
       "    \n",
       "    * 'two-sided': the mean of the underlying distribution of the sample\n",
       "      is different than the given population mean (`popmean`)\n",
       "    * 'less': the mean of the underlying distribution of the sample is\n",
       "      less than the given population mean (`popmean`)\n",
       "    * 'greater': the mean of the underlying distribution of the sample is\n",
       "      greater than the given population mean (`popmean`)\n",
       "keepdims : bool, default: False\n",
       "    If this is set to True, the axes which are reduced are left\n",
       "    in the result as dimensions with size one. With this option,\n",
       "    the result will broadcast correctly against the input array.\n",
       "\n",
       "Returns\n",
       "-------\n",
       "result : `~scipy.stats._result_classes.TtestResult`\n",
       "    An object with the following attributes:\n",
       "    \n",
       "    statistic : float or array\n",
       "        The t-statistic.\n",
       "    pvalue : float or array\n",
       "        The p-value associated with the given alternative.\n",
       "    df : float or array\n",
       "        The number of degrees of freedom used in calculation of the\n",
       "        t-statistic; this is one less than the size of the sample\n",
       "        (``a.shape[axis]``).\n",
       "    \n",
       "        .. versionadded:: 1.10.0\n",
       "    \n",
       "    The object also has the following method:\n",
       "    \n",
       "    confidence_interval(confidence_level=0.95)\n",
       "        Computes a confidence interval around the population\n",
       "        mean for the given confidence level.\n",
       "        The confidence interval is returned in a ``namedtuple`` with\n",
       "        fields `low` and `high`.\n",
       "    \n",
       "        .. versionadded:: 1.10.0\n",
       "\n",
       "Notes\n",
       "-----\n",
       "The statistic is calculated as ``(np.mean(a) - popmean)/se``, where\n",
       "``se`` is the standard error. Therefore, the statistic will be positive\n",
       "when the sample mean is greater than the population mean and negative when\n",
       "the sample mean is less than the population mean.\n",
       "\n",
       "Beginning in SciPy 1.9, ``np.matrix`` inputs (not recommended for new\n",
       "code) are converted to ``np.ndarray`` before the calculation is performed. In\n",
       "this case, the output will be a scalar or ``np.ndarray`` of appropriate shape\n",
       "rather than a 2D ``np.matrix``. Similarly, while masked elements of masked\n",
       "arrays are ignored, the output will be a scalar or ``np.ndarray`` rather than a\n",
       "masked array with ``mask=False``.\n",
       "\n",
       "Examples\n",
       "--------\n",
       "Suppose we wish to test the null hypothesis that the mean of a population\n",
       "is equal to 0.5. We choose a confidence level of 99%; that is, we will\n",
       "reject the null hypothesis in favor of the alternative if the p-value is\n",
       "less than 0.01.\n",
       "\n",
       "When testing random variates from the standard uniform distribution, which\n",
       "has a mean of 0.5, we expect the data to be consistent with the null\n",
       "hypothesis most of the time.\n",
       "\n",
       ">>> import numpy as np\n",
       ">>> from scipy import stats\n",
       ">>> rng = np.random.default_rng()\n",
       ">>> rvs = stats.uniform.rvs(size=50, random_state=rng)\n",
       ">>> stats.ttest_1samp(rvs, popmean=0.5)\n",
       "TtestResult(statistic=2.456308468440, pvalue=0.017628209047638, df=49)\n",
       "\n",
       "As expected, the p-value of 0.017 is not below our threshold of 0.01, so\n",
       "we cannot reject the null hypothesis.\n",
       "\n",
       "When testing data from the standard *normal* distribution, which has a mean\n",
       "of 0, we would expect the null hypothesis to be rejected.\n",
       "\n",
       ">>> rvs = stats.norm.rvs(size=50, random_state=rng)\n",
       ">>> stats.ttest_1samp(rvs, popmean=0.5)\n",
       "TtestResult(statistic=-7.433605518875, pvalue=1.416760157221e-09, df=49)\n",
       "\n",
       "Indeed, the p-value is lower than our threshold of 0.01, so we reject the\n",
       "null hypothesis in favor of the default \"two-sided\" alternative: the mean\n",
       "of the population is *not* equal to 0.5.\n",
       "\n",
       "However, suppose we were to test the null hypothesis against the\n",
       "one-sided alternative that the mean of the population is *greater* than\n",
       "0.5. Since the mean of the standard normal is less than 0.5, we would not\n",
       "expect the null hypothesis to be rejected.\n",
       "\n",
       ">>> stats.ttest_1samp(rvs, popmean=0.5, alternative='greater')\n",
       "TtestResult(statistic=-7.433605518875, pvalue=0.99999999929, df=49)\n",
       "\n",
       "Unsurprisingly, with a p-value greater than our threshold, we would not\n",
       "reject the null hypothesis.\n",
       "\n",
       "Note that when working with a confidence level of 99%, a true null\n",
       "hypothesis will be rejected approximately 1% of the time.\n",
       "\n",
       ">>> rvs = stats.uniform.rvs(size=(100, 50), random_state=rng)\n",
       ">>> res = stats.ttest_1samp(rvs, popmean=0.5, axis=1)\n",
       ">>> np.sum(res.pvalue < 0.01)\n",
       "1\n",
       "\n",
       "Indeed, even though all 100 samples above were drawn from the standard\n",
       "uniform distribution, which *does* have a population mean of 0.5, we would\n",
       "mistakenly reject the null hypothesis for one of them.\n",
       "\n",
       "`ttest_1samp` can also compute a confidence interval around the population\n",
       "mean.\n",
       "\n",
       ">>> rvs = stats.norm.rvs(size=50, random_state=rng)\n",
       ">>> res = stats.ttest_1samp(rvs, popmean=0)\n",
       ">>> ci = res.confidence_interval(confidence_level=0.95)\n",
       ">>> ci\n",
       "ConfidenceInterval(low=-0.3193887540880017, high=0.2898583388980972)\n",
       "\n",
       "The bounds of the 95% confidence interval are the\n",
       "minimum and maximum values of the parameter `popmean` for which the\n",
       "p-value of the test would be 0.05.\n",
       "\n",
       ">>> res = stats.ttest_1samp(rvs, popmean=ci.low)\n",
       ">>> np.testing.assert_allclose(res.pvalue, 0.05)\n",
       ">>> res = stats.ttest_1samp(rvs, popmean=ci.high)\n",
       ">>> np.testing.assert_allclose(res.pvalue, 0.05)\n",
       "\n",
       "Under certain assumptions about the population from which a sample\n",
       "is drawn, the confidence interval with confidence level 95% is expected\n",
       "to contain the true population mean in 95% of sample replications.\n",
       "\n",
       ">>> rvs = stats.norm.rvs(size=(50, 1000), loc=1, random_state=rng)\n",
       ">>> res = stats.ttest_1samp(rvs, popmean=0)\n",
       ">>> ci = res.confidence_interval()\n",
       ">>> contains_pop_mean = (ci.low < 1) & (ci.high > 1)\n",
       ">>> contains_pop_mean.sum()\n",
       "953\n",
       "\u001b[1;31mFile:\u001b[0m      c:\\users\\binia\\appdata\\local\\programs\\python\\python313\\lib\\site-packages\\scipy\\stats\\_stats_py.py\n",
       "\u001b[1;31mType:\u001b[0m      function"
      ]
     },
     "metadata": {},
     "output_type": "display_data"
    }
   ],
   "source": [
    "ttest_1samp?"
   ]
  },
  {
   "cell_type": "markdown",
   "metadata": {},
   "source": [
    "__A:__"
   ]
  },
  {
   "cell_type": "markdown",
   "metadata": {},
   "source": [
    "## Learning outcomes"
   ]
  },
  {
   "cell_type": "markdown",
   "metadata": {},
   "source": [
    "Having completed this project notebook, you now have good hands-on experience:\n",
    "* using the central limit theorem to help you apply frequentist techniques to answer questions that pertain to very non-normally distributed data from the real world\n",
    "* performing inference using such data to answer business questions\n",
    "* forming a hypothesis and framing the null and alternative hypotheses\n",
    "* testing this using a _t_-test"
   ]
  }
 ],
 "metadata": {
  "kernelspec": {
   "display_name": "Python 3 (ipykernel)",
   "language": "python",
   "name": "python3"
  },
  "language_info": {
   "codemirror_mode": {
    "name": "ipython",
    "version": 3
   },
   "file_extension": ".py",
   "mimetype": "text/x-python",
   "name": "python",
   "nbconvert_exporter": "python",
   "pygments_lexer": "ipython3",
   "version": "3.13.1"
  }
 },
 "nbformat": 4,
 "nbformat_minor": 4
}
